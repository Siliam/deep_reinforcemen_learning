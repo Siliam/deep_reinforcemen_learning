{
 "cells": [
  {
   "cell_type": "markdown",
   "metadata": {
    "id": "hyyN-2qyK_T2"
   },
   "source": [
    "# Stable Baselines3 Tutorial - Getting Started\n",
    "\n",
    "Github repo: https://github.com/araffin/rl-tutorial-jnrr19/tree/sb3/\n",
    "\n",
    "Stable-Baselines3: https://github.com/DLR-RM/stable-baselines3\n",
    "\n",
    "Documentation: https://stable-baselines3.readthedocs.io/en/master/\n",
    "\n",
    "SB3-Contrib: https://github.com/Stable-Baselines-Team/stable-baselines3-contrib\n",
    "\n",
    "RL Baselines3 zoo: https://github.com/DLR-RM/rl-baselines3-zoo\n",
    "\n",
    "[RL Baselines3 Zoo](https://github.com/DLR-RM/rl-baselines3-zoo) is a training framework for Reinforcement Learning (RL), using Stable Baselines3.\n",
    "\n",
    "It provides scripts for training, evaluating agents, tuning hyperparameters, plotting results and recording videos.\n",
    "\n",
    "\n",
    "## Introduction\n",
    "\n",
    "In this notebook, you will learn the basics for using stable baselines library: how to create a RL model, train it and evaluate it. Because all algorithms share the same interface, we will see how simple it is to switch from one algorithm to another.\n",
    "\n",
    "\n",
    "## Install Dependencies and Stable Baselines3 Using Pip\n",
    "\n",
    "List of full dependencies can be found in the [README](https://github.com/DLR-RM/stable-baselines3).\n",
    "\n",
    "\n",
    "```\n",
    "pip install stable-baselines3[extra]\n",
    "```"
   ]
  },
  {
   "cell_type": "code",
   "execution_count": 1,
   "metadata": {
    "id": "g6nhvpdnH2-F"
   },
   "outputs": [],
   "source": [
    "# for autoformatting\n",
    "# %load_ext jupyter_black"
   ]
  },
  {
   "cell_type": "code",
   "execution_count": 2,
   "metadata": {},
   "outputs": [],
   "source": [
    "# ! sudo apt-get install ffmpeg freeglut3-dev xvfb  # For visualization"
   ]
  },
  {
   "cell_type": "code",
   "execution_count": 3,
   "metadata": {},
   "outputs": [
    {
     "name": "stdout",
     "output_type": "stream",
     "text": [
      "Requirement already satisfied: moviepy in /home/ismail/anaconda3/lib/python3.9/site-packages (1.0.3)\n",
      "Requirement already satisfied: tqdm<5.0,>=4.11.2 in /home/ismail/anaconda3/lib/python3.9/site-packages (from moviepy) (4.64.0)\n",
      "Requirement already satisfied: decorator<5.0,>=4.0.2 in /home/ismail/anaconda3/lib/python3.9/site-packages (from moviepy) (4.4.2)\n",
      "Requirement already satisfied: proglog<=1.0.0 in /home/ismail/anaconda3/lib/python3.9/site-packages (from moviepy) (0.1.10)\n",
      "Requirement already satisfied: imageio-ffmpeg>=0.2.0 in /home/ismail/anaconda3/lib/python3.9/site-packages (from moviepy) (0.4.8)\n",
      "Requirement already satisfied: numpy in /home/ismail/anaconda3/lib/python3.9/site-packages (from moviepy) (1.25.0)\n",
      "Requirement already satisfied: requests<3.0,>=2.8.1 in /home/ismail/anaconda3/lib/python3.9/site-packages (from moviepy) (2.27.1)\n",
      "Requirement already satisfied: imageio<3.0,>=2.5 in /home/ismail/anaconda3/lib/python3.9/site-packages (from moviepy) (2.9.0)\n",
      "Requirement already satisfied: pillow in /home/ismail/anaconda3/lib/python3.9/site-packages (from imageio<3.0,>=2.5->moviepy) (9.0.1)\n",
      "Requirement already satisfied: charset-normalizer~=2.0.0 in /home/ismail/anaconda3/lib/python3.9/site-packages (from requests<3.0,>=2.8.1->moviepy) (2.0.4)\n",
      "Requirement already satisfied: urllib3<1.27,>=1.21.1 in /home/ismail/anaconda3/lib/python3.9/site-packages (from requests<3.0,>=2.8.1->moviepy) (1.26.9)\n",
      "Requirement already satisfied: certifi>=2017.4.17 in /home/ismail/anaconda3/lib/python3.9/site-packages (from requests<3.0,>=2.8.1->moviepy) (2021.10.8)\n",
      "Requirement already satisfied: idna<4,>=2.5 in /home/ismail/anaconda3/lib/python3.9/site-packages (from requests<3.0,>=2.8.1->moviepy) (3.3)\n"
     ]
    }
   ],
   "source": [
    "! pip install moviepy"
   ]
  },
  {
   "cell_type": "code",
   "execution_count": 4,
   "metadata": {
    "id": "gWskDE2c9WoN"
   },
   "outputs": [],
   "source": [
    "# !pip install \"stable-baselines3[extra]>=2.0.0a4\""
   ]
  },
  {
   "cell_type": "markdown",
   "metadata": {
    "id": "FtY8FhliLsGm"
   },
   "source": [
    "## Imports"
   ]
  },
  {
   "cell_type": "markdown",
   "metadata": {
    "id": "gcX8hEcaUpR0"
   },
   "source": [
    "Stable-Baselines3 works on environments that follow the [gym interface](https://stable-baselines3.readthedocs.io/en/master/guide/custom_env.html).\n",
    "You can find a list of available environment [here](https://gymnasium.farama.org/environments/classic_control/).\n",
    "\n",
    "Not all algorithms can work with all action spaces, you can find more in this [recap table](https://stable-baselines3.readthedocs.io/en/master/guide/algos.html)"
   ]
  },
  {
   "cell_type": "code",
   "execution_count": 5,
   "metadata": {
    "id": "BIedd7Pz9sOs"
   },
   "outputs": [],
   "source": [
    "import gymnasium as gym\n",
    "import numpy as np"
   ]
  },
  {
   "cell_type": "markdown",
   "metadata": {
    "id": "Ae32CtgzTG3R"
   },
   "source": [
    "The first thing you need to import is the RL model, check the documentation to know what you can use on which problem"
   ]
  },
  {
   "cell_type": "code",
   "execution_count": 6,
   "metadata": {
    "id": "R7tKaBFrTR0a"
   },
   "outputs": [],
   "source": [
    "from stable_baselines3 import PPO"
   ]
  },
  {
   "cell_type": "markdown",
   "metadata": {
    "id": "-0_8OQbOTTNT"
   },
   "source": [
    "The next thing you need to import is the policy class that will be used to create the networks (for the policy/value functions).\n",
    "This step is optional as you can directly use strings in the constructor:\n",
    "\n",
    "```PPO('MlpPolicy', env)``` instead of ```PPO(MlpPolicy, env)```\n",
    "\n",
    "Note that some algorithms like `SAC` have their own `MlpPolicy`, that's why using string for the policy is the recommended option."
   ]
  },
  {
   "cell_type": "code",
   "execution_count": 7,
   "metadata": {
    "id": "ROUJr675TT01"
   },
   "outputs": [],
   "source": [
    "from stable_baselines3.ppo.policies import MlpPolicy"
   ]
  },
  {
   "cell_type": "markdown",
   "metadata": {
    "id": "RapkYvTXL7Cd"
   },
   "source": [
    "## Create the Gym env and instantiate the agent\n",
    "\n",
    "For this example, we will use CartPole environment, a classic control problem.\n",
    "\n",
    "\"A pole is attached by an un-actuated joint to a cart, which moves along a frictionless track. The system is controlled by applying a force of +1 or -1 to the cart. The pendulum starts upright, and the goal is to prevent it from falling over. A reward of +1 is provided for every timestep that the pole remains upright. \"\n",
    "\n",
    "Cartpole environment: [https://gymnasium.farama.org/environments/classic_control/cart_pole/](https://gymnasium.farama.org/environments/classic_control/cart_pole/)\n",
    "\n",
    "![Cartpole](https://cdn-images-1.medium.com/max/1143/1*h4WTQNVIsvMXJTCpXm_TAw.gif)\n",
    "\n",
    "\n",
    "We chose the MlpPolicy because the observation of the CartPole task is a feature vector, not images.\n",
    "\n",
    "The type of action to use (discrete/continuous) will be automatically deduced from the environment action space\n",
    "\n",
    "Here we are using the [Proximal Policy Optimization](https://stable-baselines3.readthedocs.io/en/master/modules/ppo.html) algorithm, which is an Actor-Critic method: it uses a value function to improve the policy gradient descent (by reducing the variance).\n",
    "\n",
    "It combines ideas from [A2C](https://stable-baselines3.readthedocs.io/en/master/modules/a2c.html) (having multiple workers and using an entropy bonus for exploration) and [TRPO](https://stable-baselines.readthedocs.io/en/master/modules/trpo.html) (it uses a trust region to improve stability and avoid catastrophic drops in performance).\n",
    "\n",
    "PPO is an on-policy algorithm, which means that the trajectories used to update the networks must be collected using the latest policy.\n",
    "It is usually less sample efficient than off-policy alorithms like [DQN](https://stable-baselines.readthedocs.io/en/master/modules/dqn.html), [SAC](https://stable-baselines3.readthedocs.io/en/master/modules/sac.html) or [TD3](https://stable-baselines3.readthedocs.io/en/master/modules/td3.html), but is much faster regarding wall-clock time.\n"
   ]
  },
  {
   "cell_type": "code",
   "execution_count": 8,
   "metadata": {
    "id": "pUWGZp3i9wyf"
   },
   "outputs": [],
   "source": [
    "env = gym.make(\"CartPole-v1\")\n",
    "\n",
    "model = PPO(MlpPolicy, env, verbose=0)"
   ]
  },
  {
   "cell_type": "markdown",
   "metadata": {
    "id": "4efFdrQ7MBvl"
   },
   "source": [
    "We create a helper function to evaluate the agent:"
   ]
  },
  {
   "cell_type": "code",
   "execution_count": 9,
   "metadata": {
    "id": "63M8mSKR-6Zt"
   },
   "outputs": [],
   "source": [
    "from stable_baselines3.common.base_class import BaseAlgorithm\n",
    "\n",
    "\n",
    "def evaluate(\n",
    "    model: BaseAlgorithm,\n",
    "    num_episodes: int = 100,\n",
    "    deterministic: bool = True,\n",
    ") -> float:\n",
    "    \"\"\"\n",
    "    Evaluate an RL agent for `num_episodes`.\n",
    "\n",
    "    :param model: the RL Agent\n",
    "    :param env: the gym Environment\n",
    "    :param num_episodes: number of episodes to evaluate it\n",
    "    :param deterministic: Whether to use deterministic or stochastic actions\n",
    "    :return: Mean reward for the last `num_episodes`\n",
    "    \"\"\"\n",
    "    # This function will only work for a single environment\n",
    "    vec_env = model.get_env()\n",
    "    obs = vec_env.reset()\n",
    "    all_episode_rewards = []\n",
    "    for _ in range(num_episodes):\n",
    "        episode_rewards = []\n",
    "        done = False\n",
    "        # Note: SB3 VecEnv resets automatically:\n",
    "        # https://stable-baselines3.readthedocs.io/en/master/guide/vec_envs.html#vecenv-api-vs-gym-api\n",
    "        # obs = vec_env.reset()\n",
    "        while not done:\n",
    "            # _states are only useful when using LSTM policies\n",
    "            # `deterministic` is to use deterministic actions\n",
    "            action, _states = model.predict(obs, deterministic=deterministic)\n",
    "            # here, action, rewards and dones are arrays\n",
    "            # because we are using vectorized env\n",
    "            obs, reward, done, _info = vec_env.step(action)\n",
    "            episode_rewards.append(reward)\n",
    "\n",
    "        all_episode_rewards.append(sum(episode_rewards))\n",
    "\n",
    "    mean_episode_reward = np.mean(all_episode_rewards)\n",
    "    print(f\"Mean reward: {mean_episode_reward:.2f} - Num episodes: {num_episodes}\")\n",
    "\n",
    "    return mean_episode_reward"
   ]
  },
  {
   "cell_type": "markdown",
   "metadata": {
    "id": "zjEVOIY8NVeK"
   },
   "source": [
    "Let's evaluate the un-trained agent, this should be a random agent."
   ]
  },
  {
   "cell_type": "code",
   "execution_count": 10,
   "metadata": {
    "id": "xDHLMA6NFk95"
   },
   "outputs": [
    {
     "name": "stdout",
     "output_type": "stream",
     "text": [
      "Mean reward: 11.84 - Num episodes: 100\n"
     ]
    }
   ],
   "source": [
    "# Random Agent, before training\n",
    "mean_reward_before_train = evaluate(model, num_episodes=100, deterministic=True)"
   ]
  },
  {
   "cell_type": "markdown",
   "metadata": {
    "id": "QjjPxrwkYJ2i"
   },
   "source": [
    "Stable-Baselines already provides you with that helper:"
   ]
  },
  {
   "cell_type": "code",
   "execution_count": 11,
   "metadata": {
    "id": "8z6K9YImYJEx"
   },
   "outputs": [],
   "source": [
    "from stable_baselines3.common.evaluation import evaluate_policy"
   ]
  },
  {
   "cell_type": "code",
   "execution_count": 12,
   "metadata": {
    "id": "4oPTHjxyZSOL"
   },
   "outputs": [
    {
     "name": "stdout",
     "output_type": "stream",
     "text": [
      "mean_reward: 11.03 +/- 4.08\n"
     ]
    }
   ],
   "source": [
    "mean_reward, std_reward = evaluate_policy(model, env, n_eval_episodes=100, warn=False)\n",
    "\n",
    "print(f\"mean_reward: {mean_reward:.2f} +/- {std_reward:.2f}\")"
   ]
  },
  {
   "cell_type": "markdown",
   "metadata": {
    "id": "r5UoXTZPNdFE"
   },
   "source": [
    "## Train the agent and evaluate it"
   ]
  },
  {
   "cell_type": "code",
   "execution_count": 13,
   "metadata": {
    "id": "e4cfSXIB-pTF"
   },
   "outputs": [
    {
     "data": {
      "text/plain": [
       "<stable_baselines3.ppo.ppo.PPO at 0x7f935f378460>"
      ]
     },
     "execution_count": 13,
     "metadata": {},
     "output_type": "execute_result"
    }
   ],
   "source": [
    "# Train the agent for 10000 steps\n",
    "model.learn(total_timesteps=10_000)"
   ]
  },
  {
   "cell_type": "code",
   "execution_count": 14,
   "metadata": {
    "id": "ygl_gVmV_QP7"
   },
   "outputs": [
    {
     "name": "stderr",
     "output_type": "stream",
     "text": [
      "/home/ismail/anaconda3/lib/python3.9/site-packages/stable_baselines3/common/evaluation.py:67: UserWarning: Evaluation environment is not wrapped with a ``Monitor`` wrapper. This may result in reporting modified episode lengths and rewards, if other wrappers happen to modify these. Consider wrapping environment first with ``Monitor`` wrapper.\n",
      "  warnings.warn(\n"
     ]
    },
    {
     "name": "stdout",
     "output_type": "stream",
     "text": [
      "mean_reward:314.97 +/- 117.63\n"
     ]
    }
   ],
   "source": [
    "# Evaluate the trained agent\n",
    "mean_reward, std_reward = evaluate_policy(model, env, n_eval_episodes=100)\n",
    "\n",
    "print(f\"mean_reward:{mean_reward:.2f} +/- {std_reward:.2f}\")"
   ]
  },
  {
   "cell_type": "markdown",
   "metadata": {
    "id": "A00W6yY3NkHG"
   },
   "source": [
    "Apparently the training went well, the mean reward increased a lot !"
   ]
  },
  {
   "cell_type": "markdown",
   "metadata": {
    "id": "xVm9QPNVwKXN"
   },
   "source": [
    "### Prepare video recording"
   ]
  },
  {
   "cell_type": "code",
   "execution_count": 15,
   "metadata": {
    "id": "MPyfQxD5z26J"
   },
   "outputs": [],
   "source": [
    "# Set up fake display; otherwise rendering will fail\n",
    "import os\n",
    "os.system(\"Xvfb :1 -screen 0 1024x768x24 &\")\n",
    "os.environ['DISPLAY'] = ':1'"
   ]
  },
  {
   "cell_type": "code",
   "execution_count": 16,
   "metadata": {
    "id": "SLzXxO8VMD6N"
   },
   "outputs": [
    {
     "name": "stderr",
     "output_type": "stream",
     "text": [
      "_XSERVTransSocketUNIXCreateListener: ...SocketCreateListener() failed\n",
      "_XSERVTransMakeAllCOTSServerListeners: server already running\n",
      "(EE) \n",
      "Fatal server error:\n",
      "(EE) Cannot establish any listening sockets - Make sure an X server isn't already running(EE) \n"
     ]
    }
   ],
   "source": [
    "import base64\n",
    "from pathlib import Path\n",
    "\n",
    "from IPython import display as ipythondisplay\n",
    "\n",
    "\n",
    "def show_videos(video_path=\"\", prefix=\"\"):\n",
    "    \"\"\"\n",
    "    Taken from https://github.com/eleurent/highway-env\n",
    "\n",
    "    :param video_path: (str) Path to the folder containing videos\n",
    "    :param prefix: (str) Filter the video, showing only the only starting with this prefix\n",
    "    \"\"\"\n",
    "    html = []\n",
    "    for mp4 in Path(video_path).glob(\"{}*.mp4\".format(prefix)):\n",
    "        video_b64 = base64.b64encode(mp4.read_bytes())\n",
    "        html.append(\n",
    "            \"\"\"<video alt=\"{}\" autoplay\n",
    "                    loop controls style=\"height: 400px;\">\n",
    "                    <source src=\"data:video/mp4;base64,{}\" type=\"video/mp4\" />\n",
    "                </video>\"\"\".format(\n",
    "                mp4, video_b64.decode(\"ascii\")\n",
    "            )\n",
    "        )\n",
    "    ipythondisplay.display(ipythondisplay.HTML(data=\"<br>\".join(html)))"
   ]
  },
  {
   "cell_type": "markdown",
   "metadata": {
    "id": "LTRNUfulOGaF"
   },
   "source": [
    "We will record a video using the [VecVideoRecorder](https://stable-baselines3.readthedocs.io/en/master/guide/vec_envs.html#vecvideorecorder) wrapper, you will learn about those wrapper in the next notebook."
   ]
  },
  {
   "cell_type": "code",
   "execution_count": 17,
   "metadata": {
    "id": "Trag9dQpOIhx"
   },
   "outputs": [],
   "source": [
    "from stable_baselines3.common.vec_env import VecVideoRecorder, DummyVecEnv\n",
    "\n",
    "\n",
    "def record_video(env_id, model, video_length=500, prefix=\"\", video_folder=\"videos/\"):\n",
    "    \"\"\"\n",
    "    :param env_id: (str)\n",
    "    :param model: (RL model)\n",
    "    :param video_length: (int)\n",
    "    :param prefix: (str)\n",
    "    :param video_folder: (str)\n",
    "    \"\"\"\n",
    "    eval_env = DummyVecEnv([lambda: gym.make(env_id, render_mode=\"rgb_array\")])\n",
    "    # Start the video at step=0 and record 500 steps\n",
    "    eval_env = VecVideoRecorder(\n",
    "        eval_env,\n",
    "        video_folder=video_folder,\n",
    "        record_video_trigger=lambda step: step == 0,\n",
    "        video_length=video_length,\n",
    "        name_prefix=prefix,\n",
    "    )\n",
    "\n",
    "    obs = eval_env.reset()\n",
    "    for _ in range(video_length):\n",
    "        action, _ = model.predict(obs)\n",
    "        obs, _, _, _ = eval_env.step(action)\n",
    "\n",
    "    # Close the video recorder\n",
    "    eval_env.close()"
   ]
  },
  {
   "cell_type": "markdown",
   "metadata": {
    "id": "KOObbeu5MMlR"
   },
   "source": [
    "### Visualize trained agent\n",
    "\n"
   ]
  },
  {
   "cell_type": "code",
   "execution_count": 18,
   "metadata": {},
   "outputs": [
    {
     "name": "stdout",
     "output_type": "stream",
     "text": [
      "Requirement already satisfied: ffmpeg in /home/ismail/anaconda3/lib/python3.9/site-packages (1.4)\r\n"
     ]
    }
   ],
   "source": [
    "! pip install ffmpeg --upgrade"
   ]
  },
  {
   "cell_type": "code",
   "execution_count": 19,
   "metadata": {
    "id": "iATu7AiyMQW2"
   },
   "outputs": [
    {
     "name": "stdout",
     "output_type": "stream",
     "text": [
      "Saving video to /home/ismail/git/Other/deep_reinforcement_learning/stable-baselines3/Official tutorial/videos/ppo-cartpole-step-0-to-step-500.mp4\n",
      "Moviepy - Building video /home/ismail/git/Other/deep_reinforcement_learning/stable-baselines3/Official tutorial/videos/ppo-cartpole-step-0-to-step-500.mp4.\n",
      "Moviepy - Writing video /home/ismail/git/Other/deep_reinforcement_learning/stable-baselines3/Official tutorial/videos/ppo-cartpole-step-0-to-step-500.mp4\n",
      "\n"
     ]
    },
    {
     "name": "stderr",
     "output_type": "stream",
     "text": [
      "                                                                                \r"
     ]
    },
    {
     "name": "stdout",
     "output_type": "stream",
     "text": [
      "Moviepy - Done !\n",
      "Moviepy - video ready /home/ismail/git/Other/deep_reinforcement_learning/stable-baselines3/Official tutorial/videos/ppo-cartpole-step-0-to-step-500.mp4\n"
     ]
    }
   ],
   "source": [
    "record_video(\"CartPole-v1\", model, video_length=500, prefix=\"ppo-cartpole\")"
   ]
  },
  {
   "cell_type": "code",
   "execution_count": 20,
   "metadata": {
    "id": "-n4i-fW3NojZ"
   },
   "outputs": [
    {
     "data": {
      "text/html": [
       "<video alt=\"videos/ppo-cartpole-step-0-to-step-500.mp4\" autoplay\n",
       "                    loop controls style=\"height: 400px;\">\n",
       "                    <source src=\"data:video/mp4;base64,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\" type=\"video/mp4\" />\n",
       "                </video>"
      ],
      "text/plain": [
       "<IPython.core.display.HTML object>"
      ]
     },
     "metadata": {},
     "output_type": "display_data"
    }
   ],
   "source": [
    "show_videos(\"videos\", prefix=\"ppo\")"
   ]
  },
  {
   "cell_type": "markdown",
   "metadata": {
    "id": "9Y8zg4V566qD"
   },
   "source": [
    "## Bonus: Train a RL Model in One Line\n",
    "\n",
    "The policy class to use will be inferred and the environment will be automatically created. This works because both are [registered](https://stable-baselines3.readthedocs.io/en/master/guide/quickstart.html)."
   ]
  },
  {
   "cell_type": "code",
   "execution_count": 21,
   "metadata": {
    "id": "iaOPfOrwWEP4"
   },
   "outputs": [
    {
     "name": "stdout",
     "output_type": "stream",
     "text": [
      "Using cpu device\n",
      "Creating environment from the given name 'CartPole-v1'\n",
      "Wrapping the env with a `Monitor` wrapper\n",
      "Wrapping the env in a DummyVecEnv.\n",
      "---------------------------------\n",
      "| rollout/           |          |\n",
      "|    ep_len_mean     | 22.7     |\n",
      "|    ep_rew_mean     | 22.7     |\n",
      "| time/              |          |\n",
      "|    fps             | 350      |\n",
      "|    iterations      | 1        |\n",
      "|    time_elapsed    | 5        |\n",
      "|    total_timesteps | 2048     |\n",
      "---------------------------------\n"
     ]
    }
   ],
   "source": [
    "model = PPO('MlpPolicy', \"CartPole-v1\", verbose=1).learn(1000)"
   ]
  },
  {
   "cell_type": "markdown",
   "metadata": {
    "id": "FrI6f5fWnzp-"
   },
   "source": [
    "## Conclusion\n",
    "\n",
    "In this notebook we have seen:\n",
    "- how to define and train a RL model using stable baselines3, it takes only one line of code ;)"
   ]
  },
  {
   "cell_type": "code",
   "execution_count": null,
   "metadata": {
    "id": "73ji3gbNDkf7"
   },
   "outputs": [],
   "source": []
  }
 ],
 "metadata": {
  "accelerator": "GPU",
  "colab": {
   "name": "1_getting_started.ipynb",
   "provenance": []
  },
  "kernelspec": {
   "display_name": "Python 3 (ipykernel)",
   "language": "python",
   "name": "python3"
  },
  "language_info": {
   "codemirror_mode": {
    "name": "ipython",
    "version": 3
   },
   "file_extension": ".py",
   "mimetype": "text/x-python",
   "name": "python",
   "nbconvert_exporter": "python",
   "pygments_lexer": "ipython3",
   "version": "3.9.12"
  }
 },
 "nbformat": 4,
 "nbformat_minor": 1
}
